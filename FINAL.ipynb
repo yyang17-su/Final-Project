{
 "cells": [
  {
   "cell_type": "code",
   "execution_count": 1,
   "metadata": {},
   "outputs": [
    {
     "name": "stdout",
     "output_type": "stream",
     "text": [
      "Collecting colorama\n",
      "  Downloading https://files.pythonhosted.org/packages/c9/dc/45cdef1b4d119eb96316b3117e6d5708a08029992b2fee2c143c7a0a5cc5/colorama-0.4.3-py2.py3-none-any.whl\n",
      "Installing collected packages: colorama\n",
      "Successfully installed colorama-0.4.3\n",
      "Note: you may need to restart the kernel to use updated packages.\n"
     ]
    }
   ],
   "source": [
    "pip install colorama"
   ]
  },
  {
   "cell_type": "code",
   "execution_count": 2,
   "metadata": {},
   "outputs": [
    {
     "name": "stdout",
     "output_type": "stream",
     "text": [
      "Collecting chart_studio\n",
      "\u001b[?25l  Downloading https://files.pythonhosted.org/packages/b9/3f/d2f3f506ba1aaf109f549f8b01d1483cd3e324c5ebe6b206acee66efdf46/chart_studio-1.0.0-py3-none-any.whl (76kB)\n",
      "\u001b[K     |████████████████████████████████| 81kB 4.8MB/s eta 0:00:011\n",
      "\u001b[?25hRequirement already satisfied: six in /opt/conda/lib/python3.7/site-packages (from chart_studio) (1.12.0)\n",
      "Requirement already satisfied: retrying>=1.3.3 in /opt/conda/lib/python3.7/site-packages (from chart_studio) (1.3.3)\n",
      "Requirement already satisfied: plotly in /opt/conda/lib/python3.7/site-packages (from chart_studio) (4.1.1)\n",
      "Requirement already satisfied: requests in /opt/conda/lib/python3.7/site-packages (from chart_studio) (2.22.0)\n",
      "Requirement already satisfied: urllib3!=1.25.0,!=1.25.1,<1.26,>=1.21.1 in /opt/conda/lib/python3.7/site-packages (from requests->chart_studio) (1.24.2)\n",
      "Requirement already satisfied: idna<2.9,>=2.5 in /opt/conda/lib/python3.7/site-packages (from requests->chart_studio) (2.8)\n",
      "Requirement already satisfied: chardet<3.1.0,>=3.0.2 in /opt/conda/lib/python3.7/site-packages (from requests->chart_studio) (3.0.4)\n",
      "Requirement already satisfied: certifi>=2017.4.17 in /opt/conda/lib/python3.7/site-packages (from requests->chart_studio) (2019.6.16)\n",
      "Installing collected packages: chart-studio\n",
      "Successfully installed chart-studio-1.0.0\n",
      "Note: you may need to restart the kernel to use updated packages.\n"
     ]
    }
   ],
   "source": [
    "pip install chart_studio "
   ]
  },
  {
   "cell_type": "code",
   "execution_count": 4,
   "metadata": {
    "scrolled": false
   },
   "outputs": [
    {
     "name": "stdout",
     "output_type": "stream",
     "text": [
      "Hello,What's your name?Michael\n"
     ]
    },
    {
     "data": {
      "text/html": [
       "<H1>Hello there ,Michael!Welecome to the Ultimate College Search Service!</H1>"
      ],
      "text/plain": [
       "<IPython.core.display.HTML object>"
      ]
     },
     "metadata": {},
     "output_type": "display_data"
    },
    {
     "name": "stdout",
     "output_type": "stream",
     "text": [
      "First of all, what is your SAT score? Don't worry, we will protect your data!1330\n"
     ]
    },
    {
     "data": {
      "text/html": [
       "<H1>Wow, you did really well on that!</H1>"
      ],
      "text/plain": [
       "<IPython.core.display.HTML object>"
      ]
     },
     "metadata": {},
     "output_type": "display_data"
    },
    {
     "name": "stdout",
     "output_type": "stream",
     "text": [
      "Type the name of the college you are interested in:Syracuse University\n"
     ]
    },
    {
     "data": {
      "text/html": [
       "<H1>Syracuse University has an average SAT score of 1277. Your SAT score is 1330.</H1>"
      ],
      "text/plain": [
       "<IPython.core.display.HTML object>"
      ]
     },
     "metadata": {},
     "output_type": "display_data"
    },
    {
     "name": "stdout",
     "output_type": "stream",
     "text": [
      "\u001b[32mYour SAT score is higher than the average score at Syracuse University!Good job! \n"
     ]
    },
    {
     "data": {
      "text/html": [
       "<div>\n",
       "<style scoped>\n",
       "    .dataframe tbody tr th:only-of-type {\n",
       "        vertical-align: middle;\n",
       "    }\n",
       "\n",
       "    .dataframe tbody tr th {\n",
       "        vertical-align: top;\n",
       "    }\n",
       "\n",
       "    .dataframe thead th {\n",
       "        text-align: right;\n",
       "    }\n",
       "</style>\n",
       "<table border=\"1\" class=\"dataframe\">\n",
       "  <thead>\n",
       "    <tr style=\"text-align: right;\">\n",
       "      <th></th>\n",
       "      <th>College_Name</th>\n",
       "      <th>City</th>\n",
       "      <th>State</th>\n",
       "      <th>Website</th>\n",
       "      <th>Admission_Rate</th>\n",
       "      <th>Average_SAT</th>\n",
       "      <th>Total_Undergraduate</th>\n",
       "      <th>In_State_Tuition</th>\n",
       "      <th>Out_State_tuition</th>\n",
       "      <th>First_Generation_Rate</th>\n",
       "      <th>Latitude</th>\n",
       "      <th>Longitude</th>\n",
       "    </tr>\n",
       "  </thead>\n",
       "  <tbody>\n",
       "    <tr>\n",
       "      <td>2435</td>\n",
       "      <td>Syracuse University</td>\n",
       "      <td>Syracuse</td>\n",
       "      <td>NY</td>\n",
       "      <td>https://www.syracuse.edu</td>\n",
       "      <td>0.4688</td>\n",
       "      <td>1277.0</td>\n",
       "      <td>14788.0</td>\n",
       "      <td>46755.0</td>\n",
       "      <td>46755.0</td>\n",
       "      <td>0.188679245</td>\n",
       "      <td>43.040176</td>\n",
       "      <td>-76.136975</td>\n",
       "    </tr>\n",
       "  </tbody>\n",
       "</table>\n",
       "</div>"
      ],
      "text/plain": [
       "             College_Name      City State                   Website  \\\n",
       "2435  Syracuse University  Syracuse    NY  https://www.syracuse.edu   \n",
       "\n",
       "      Admission_Rate  Average_SAT  Total_Undergraduate  In_State_Tuition  \\\n",
       "2435          0.4688       1277.0              14788.0           46755.0   \n",
       "\n",
       "      Out_State_tuition First_Generation_Rate   Latitude  Longitude  \n",
       "2435            46755.0           0.188679245  43.040176 -76.136975  "
      ]
     },
     "metadata": {},
     "output_type": "display_data"
    },
    {
     "name": "stdout",
     "output_type": "stream",
     "text": [
      "Type the name of the college you are interested in:Boston College\n"
     ]
    },
    {
     "data": {
      "text/html": [
       "<H1>Boston College has an average SAT score of 1434. Your SAT score is 1330.</H1>"
      ],
      "text/plain": [
       "<IPython.core.display.HTML object>"
      ]
     },
     "metadata": {},
     "output_type": "display_data"
    },
    {
     "name": "stdout",
     "output_type": "stream",
     "text": [
      "\u001b[31mYour SAT score is a little bit lower than the average score at Boston College, but you can give it a try! \n"
     ]
    },
    {
     "data": {
      "text/html": [
       "<div>\n",
       "<style scoped>\n",
       "    .dataframe tbody tr th:only-of-type {\n",
       "        vertical-align: middle;\n",
       "    }\n",
       "\n",
       "    .dataframe tbody tr th {\n",
       "        vertical-align: top;\n",
       "    }\n",
       "\n",
       "    .dataframe thead th {\n",
       "        text-align: right;\n",
       "    }\n",
       "</style>\n",
       "<table border=\"1\" class=\"dataframe\">\n",
       "  <thead>\n",
       "    <tr style=\"text-align: right;\">\n",
       "      <th></th>\n",
       "      <th>College_Name</th>\n",
       "      <th>City</th>\n",
       "      <th>State</th>\n",
       "      <th>Website</th>\n",
       "      <th>Admission_Rate</th>\n",
       "      <th>Average_SAT</th>\n",
       "      <th>Total_Undergraduate</th>\n",
       "      <th>In_State_Tuition</th>\n",
       "      <th>Out_State_tuition</th>\n",
       "      <th>First_Generation_Rate</th>\n",
       "      <th>Latitude</th>\n",
       "      <th>Longitude</th>\n",
       "    </tr>\n",
       "  </thead>\n",
       "  <tbody>\n",
       "    <tr>\n",
       "      <td>2435</td>\n",
       "      <td>Syracuse University</td>\n",
       "      <td>Syracuse</td>\n",
       "      <td>NY</td>\n",
       "      <td>https://www.syracuse.edu</td>\n",
       "      <td>0.4688</td>\n",
       "      <td>1277.0</td>\n",
       "      <td>14788.0</td>\n",
       "      <td>46755.0</td>\n",
       "      <td>46755.0</td>\n",
       "      <td>0.188679245</td>\n",
       "      <td>43.040176</td>\n",
       "      <td>-76.136975</td>\n",
       "    </tr>\n",
       "    <tr>\n",
       "      <td>1526</td>\n",
       "      <td>Boston College</td>\n",
       "      <td>Chestnut Hill</td>\n",
       "      <td>MA</td>\n",
       "      <td>www.bc.edu</td>\n",
       "      <td>0.3241</td>\n",
       "      <td>1434.0</td>\n",
       "      <td>9636.0</td>\n",
       "      <td>53346.0</td>\n",
       "      <td>53346.0</td>\n",
       "      <td>0.131895687</td>\n",
       "      <td>42.336213</td>\n",
       "      <td>-71.169242</td>\n",
       "    </tr>\n",
       "  </tbody>\n",
       "</table>\n",
       "</div>"
      ],
      "text/plain": [
       "             College_Name           City State                   Website  \\\n",
       "2435  Syracuse University       Syracuse    NY  https://www.syracuse.edu   \n",
       "1526       Boston College  Chestnut Hill    MA                www.bc.edu   \n",
       "\n",
       "      Admission_Rate  Average_SAT  Total_Undergraduate  In_State_Tuition  \\\n",
       "2435          0.4688       1277.0              14788.0           46755.0   \n",
       "1526          0.3241       1434.0               9636.0           53346.0   \n",
       "\n",
       "      Out_State_tuition First_Generation_Rate   Latitude  Longitude  \n",
       "2435            46755.0           0.188679245  43.040176 -76.136975  \n",
       "1526            53346.0           0.131895687  42.336213 -71.169242  "
      ]
     },
     "metadata": {},
     "output_type": "display_data"
    },
    {
     "name": "stdout",
     "output_type": "stream",
     "text": [
      "Type the name of the college you are interested in:University of Florida\n"
     ]
    },
    {
     "data": {
      "text/html": [
       "<H1>University of Florida has an average SAT score of 1356. Your SAT score is 1330.</H1>"
      ],
      "text/plain": [
       "<IPython.core.display.HTML object>"
      ]
     },
     "metadata": {},
     "output_type": "display_data"
    },
    {
     "name": "stdout",
     "output_type": "stream",
     "text": [
      "\u001b[31mYour SAT score is a little bit lower than the average score at University of Florida, but you can give it a try! \n"
     ]
    },
    {
     "data": {
      "text/html": [
       "<div>\n",
       "<style scoped>\n",
       "    .dataframe tbody tr th:only-of-type {\n",
       "        vertical-align: middle;\n",
       "    }\n",
       "\n",
       "    .dataframe tbody tr th {\n",
       "        vertical-align: top;\n",
       "    }\n",
       "\n",
       "    .dataframe thead th {\n",
       "        text-align: right;\n",
       "    }\n",
       "</style>\n",
       "<table border=\"1\" class=\"dataframe\">\n",
       "  <thead>\n",
       "    <tr style=\"text-align: right;\">\n",
       "      <th></th>\n",
       "      <th>College_Name</th>\n",
       "      <th>City</th>\n",
       "      <th>State</th>\n",
       "      <th>Website</th>\n",
       "      <th>Admission_Rate</th>\n",
       "      <th>Average_SAT</th>\n",
       "      <th>Total_Undergraduate</th>\n",
       "      <th>In_State_Tuition</th>\n",
       "      <th>Out_State_tuition</th>\n",
       "      <th>First_Generation_Rate</th>\n",
       "      <th>Latitude</th>\n",
       "      <th>Longitude</th>\n",
       "    </tr>\n",
       "  </thead>\n",
       "  <tbody>\n",
       "    <tr>\n",
       "      <td>2435</td>\n",
       "      <td>Syracuse University</td>\n",
       "      <td>Syracuse</td>\n",
       "      <td>NY</td>\n",
       "      <td>https://www.syracuse.edu</td>\n",
       "      <td>0.4688</td>\n",
       "      <td>1277.0</td>\n",
       "      <td>14788.0</td>\n",
       "      <td>46755.0</td>\n",
       "      <td>46755.0</td>\n",
       "      <td>0.188679245</td>\n",
       "      <td>43.040176</td>\n",
       "      <td>-76.136975</td>\n",
       "    </tr>\n",
       "    <tr>\n",
       "      <td>1526</td>\n",
       "      <td>Boston College</td>\n",
       "      <td>Chestnut Hill</td>\n",
       "      <td>MA</td>\n",
       "      <td>www.bc.edu</td>\n",
       "      <td>0.3241</td>\n",
       "      <td>1434.0</td>\n",
       "      <td>9636.0</td>\n",
       "      <td>53346.0</td>\n",
       "      <td>53346.0</td>\n",
       "      <td>0.131895687</td>\n",
       "      <td>42.336213</td>\n",
       "      <td>-71.169242</td>\n",
       "    </tr>\n",
       "    <tr>\n",
       "      <td>697</td>\n",
       "      <td>University of Florida</td>\n",
       "      <td>Gainesville</td>\n",
       "      <td>FL</td>\n",
       "      <td>www.ufl.edu/</td>\n",
       "      <td>0.4201</td>\n",
       "      <td>1356.0</td>\n",
       "      <td>33655.0</td>\n",
       "      <td>6381.0</td>\n",
       "      <td>28659.0</td>\n",
       "      <td>0.307665825</td>\n",
       "      <td>29.646290</td>\n",
       "      <td>-82.347911</td>\n",
       "    </tr>\n",
       "  </tbody>\n",
       "</table>\n",
       "</div>"
      ],
      "text/plain": [
       "               College_Name           City State                   Website  \\\n",
       "2435    Syracuse University       Syracuse    NY  https://www.syracuse.edu   \n",
       "1526         Boston College  Chestnut Hill    MA                www.bc.edu   \n",
       "697   University of Florida    Gainesville    FL              www.ufl.edu/   \n",
       "\n",
       "      Admission_Rate  Average_SAT  Total_Undergraduate  In_State_Tuition  \\\n",
       "2435          0.4688       1277.0              14788.0           46755.0   \n",
       "1526          0.3241       1434.0               9636.0           53346.0   \n",
       "697           0.4201       1356.0              33655.0            6381.0   \n",
       "\n",
       "      Out_State_tuition First_Generation_Rate   Latitude  Longitude  \n",
       "2435            46755.0           0.188679245  43.040176 -76.136975  \n",
       "1526            53346.0           0.131895687  42.336213 -71.169242  \n",
       "697             28659.0           0.307665825  29.646290 -82.347911  "
      ]
     },
     "metadata": {},
     "output_type": "display_data"
    },
    {
     "name": "stdout",
     "output_type": "stream",
     "text": [
      "Type the name of the college you are interested in:Pepperdine University\n"
     ]
    },
    {
     "data": {
      "text/html": [
       "<H1>Pepperdine University has an average SAT score of 1319. Your SAT score is 1330.</H1>"
      ],
      "text/plain": [
       "<IPython.core.display.HTML object>"
      ]
     },
     "metadata": {},
     "output_type": "display_data"
    },
    {
     "name": "stdout",
     "output_type": "stream",
     "text": [
      "\u001b[32mYour SAT score is higher than the average score at Pepperdine University!Good job! \n"
     ]
    },
    {
     "data": {
      "text/html": [
       "<div>\n",
       "<style scoped>\n",
       "    .dataframe tbody tr th:only-of-type {\n",
       "        vertical-align: middle;\n",
       "    }\n",
       "\n",
       "    .dataframe tbody tr th {\n",
       "        vertical-align: top;\n",
       "    }\n",
       "\n",
       "    .dataframe thead th {\n",
       "        text-align: right;\n",
       "    }\n",
       "</style>\n",
       "<table border=\"1\" class=\"dataframe\">\n",
       "  <thead>\n",
       "    <tr style=\"text-align: right;\">\n",
       "      <th></th>\n",
       "      <th>College_Name</th>\n",
       "      <th>City</th>\n",
       "      <th>State</th>\n",
       "      <th>Website</th>\n",
       "      <th>Admission_Rate</th>\n",
       "      <th>Average_SAT</th>\n",
       "      <th>Total_Undergraduate</th>\n",
       "      <th>In_State_Tuition</th>\n",
       "      <th>Out_State_tuition</th>\n",
       "      <th>First_Generation_Rate</th>\n",
       "      <th>Latitude</th>\n",
       "      <th>Longitude</th>\n",
       "    </tr>\n",
       "  </thead>\n",
       "  <tbody>\n",
       "    <tr>\n",
       "      <td>2435</td>\n",
       "      <td>Syracuse University</td>\n",
       "      <td>Syracuse</td>\n",
       "      <td>NY</td>\n",
       "      <td>https://www.syracuse.edu</td>\n",
       "      <td>0.4688</td>\n",
       "      <td>1277.0</td>\n",
       "      <td>14788.0</td>\n",
       "      <td>46755.0</td>\n",
       "      <td>46755.0</td>\n",
       "      <td>0.188679245</td>\n",
       "      <td>43.040176</td>\n",
       "      <td>-76.136975</td>\n",
       "    </tr>\n",
       "    <tr>\n",
       "      <td>1526</td>\n",
       "      <td>Boston College</td>\n",
       "      <td>Chestnut Hill</td>\n",
       "      <td>MA</td>\n",
       "      <td>www.bc.edu</td>\n",
       "      <td>0.3241</td>\n",
       "      <td>1434.0</td>\n",
       "      <td>9636.0</td>\n",
       "      <td>53346.0</td>\n",
       "      <td>53346.0</td>\n",
       "      <td>0.131895687</td>\n",
       "      <td>42.336213</td>\n",
       "      <td>-71.169242</td>\n",
       "    </tr>\n",
       "    <tr>\n",
       "      <td>697</td>\n",
       "      <td>University of Florida</td>\n",
       "      <td>Gainesville</td>\n",
       "      <td>FL</td>\n",
       "      <td>www.ufl.edu/</td>\n",
       "      <td>0.4201</td>\n",
       "      <td>1356.0</td>\n",
       "      <td>33655.0</td>\n",
       "      <td>6381.0</td>\n",
       "      <td>28659.0</td>\n",
       "      <td>0.307665825</td>\n",
       "      <td>29.646290</td>\n",
       "      <td>-82.347911</td>\n",
       "    </tr>\n",
       "    <tr>\n",
       "      <td>423</td>\n",
       "      <td>Pepperdine University</td>\n",
       "      <td>Malibu</td>\n",
       "      <td>CA</td>\n",
       "      <td>www.pepperdine.edu/</td>\n",
       "      <td>0.3985</td>\n",
       "      <td>1319.0</td>\n",
       "      <td>3594.0</td>\n",
       "      <td>51992.0</td>\n",
       "      <td>51992.0</td>\n",
       "      <td>0.176165803</td>\n",
       "      <td>34.037786</td>\n",
       "      <td>-118.707077</td>\n",
       "    </tr>\n",
       "  </tbody>\n",
       "</table>\n",
       "</div>"
      ],
      "text/plain": [
       "               College_Name           City State                   Website  \\\n",
       "2435    Syracuse University       Syracuse    NY  https://www.syracuse.edu   \n",
       "1526         Boston College  Chestnut Hill    MA                www.bc.edu   \n",
       "697   University of Florida    Gainesville    FL              www.ufl.edu/   \n",
       "423   Pepperdine University         Malibu    CA       www.pepperdine.edu/   \n",
       "\n",
       "      Admission_Rate  Average_SAT  Total_Undergraduate  In_State_Tuition  \\\n",
       "2435          0.4688       1277.0              14788.0           46755.0   \n",
       "1526          0.3241       1434.0               9636.0           53346.0   \n",
       "697           0.4201       1356.0              33655.0            6381.0   \n",
       "423           0.3985       1319.0               3594.0           51992.0   \n",
       "\n",
       "      Out_State_tuition First_Generation_Rate   Latitude   Longitude  \n",
       "2435            46755.0           0.188679245  43.040176  -76.136975  \n",
       "1526            53346.0           0.131895687  42.336213  -71.169242  \n",
       "697             28659.0           0.307665825  29.646290  -82.347911  \n",
       "423             51992.0           0.176165803  34.037786 -118.707077  "
      ]
     },
     "metadata": {},
     "output_type": "display_data"
    },
    {
     "name": "stdout",
     "output_type": "stream",
     "text": [
      "Type the name of the college you are interested in:Emory University\n"
     ]
    },
    {
     "data": {
      "text/html": [
       "<H1>Emory University has an average SAT score of 1443. Your SAT score is 1330.</H1>"
      ],
      "text/plain": [
       "<IPython.core.display.HTML object>"
      ]
     },
     "metadata": {},
     "output_type": "display_data"
    },
    {
     "name": "stdout",
     "output_type": "stream",
     "text": [
      "\u001b[31mYour SAT score is a little bit lower than the average score at Emory University, but you can give it a try! \n"
     ]
    },
    {
     "data": {
      "text/html": [
       "<div>\n",
       "<style scoped>\n",
       "    .dataframe tbody tr th:only-of-type {\n",
       "        vertical-align: middle;\n",
       "    }\n",
       "\n",
       "    .dataframe tbody tr th {\n",
       "        vertical-align: top;\n",
       "    }\n",
       "\n",
       "    .dataframe thead th {\n",
       "        text-align: right;\n",
       "    }\n",
       "</style>\n",
       "<table border=\"1\" class=\"dataframe\">\n",
       "  <thead>\n",
       "    <tr style=\"text-align: right;\">\n",
       "      <th></th>\n",
       "      <th>College_Name</th>\n",
       "      <th>City</th>\n",
       "      <th>State</th>\n",
       "      <th>Website</th>\n",
       "      <th>Admission_Rate</th>\n",
       "      <th>Average_SAT</th>\n",
       "      <th>Total_Undergraduate</th>\n",
       "      <th>In_State_Tuition</th>\n",
       "      <th>Out_State_tuition</th>\n",
       "      <th>First_Generation_Rate</th>\n",
       "      <th>Latitude</th>\n",
       "      <th>Longitude</th>\n",
       "    </tr>\n",
       "  </thead>\n",
       "  <tbody>\n",
       "    <tr>\n",
       "      <td>2435</td>\n",
       "      <td>Syracuse University</td>\n",
       "      <td>Syracuse</td>\n",
       "      <td>NY</td>\n",
       "      <td>https://www.syracuse.edu</td>\n",
       "      <td>0.4688</td>\n",
       "      <td>1277.0</td>\n",
       "      <td>14788.0</td>\n",
       "      <td>46755.0</td>\n",
       "      <td>46755.0</td>\n",
       "      <td>0.188679245</td>\n",
       "      <td>43.040176</td>\n",
       "      <td>-76.136975</td>\n",
       "    </tr>\n",
       "    <tr>\n",
       "      <td>1526</td>\n",
       "      <td>Boston College</td>\n",
       "      <td>Chestnut Hill</td>\n",
       "      <td>MA</td>\n",
       "      <td>www.bc.edu</td>\n",
       "      <td>0.3241</td>\n",
       "      <td>1434.0</td>\n",
       "      <td>9636.0</td>\n",
       "      <td>53346.0</td>\n",
       "      <td>53346.0</td>\n",
       "      <td>0.131895687</td>\n",
       "      <td>42.336213</td>\n",
       "      <td>-71.169242</td>\n",
       "    </tr>\n",
       "    <tr>\n",
       "      <td>697</td>\n",
       "      <td>University of Florida</td>\n",
       "      <td>Gainesville</td>\n",
       "      <td>FL</td>\n",
       "      <td>www.ufl.edu/</td>\n",
       "      <td>0.4201</td>\n",
       "      <td>1356.0</td>\n",
       "      <td>33655.0</td>\n",
       "      <td>6381.0</td>\n",
       "      <td>28659.0</td>\n",
       "      <td>0.307665825</td>\n",
       "      <td>29.646290</td>\n",
       "      <td>-82.347911</td>\n",
       "    </tr>\n",
       "    <tr>\n",
       "      <td>423</td>\n",
       "      <td>Pepperdine University</td>\n",
       "      <td>Malibu</td>\n",
       "      <td>CA</td>\n",
       "      <td>www.pepperdine.edu/</td>\n",
       "      <td>0.3985</td>\n",
       "      <td>1319.0</td>\n",
       "      <td>3594.0</td>\n",
       "      <td>51992.0</td>\n",
       "      <td>51992.0</td>\n",
       "      <td>0.176165803</td>\n",
       "      <td>34.037786</td>\n",
       "      <td>-118.707077</td>\n",
       "    </tr>\n",
       "    <tr>\n",
       "      <td>826</td>\n",
       "      <td>Emory University</td>\n",
       "      <td>Atlanta</td>\n",
       "      <td>GA</td>\n",
       "      <td>www.emory.edu</td>\n",
       "      <td>0.2204</td>\n",
       "      <td>1443.0</td>\n",
       "      <td>6776.0</td>\n",
       "      <td>49392.0</td>\n",
       "      <td>49392.0</td>\n",
       "      <td>0.163870246</td>\n",
       "      <td>33.790183</td>\n",
       "      <td>-84.325512</td>\n",
       "    </tr>\n",
       "  </tbody>\n",
       "</table>\n",
       "</div>"
      ],
      "text/plain": [
       "               College_Name           City State                   Website  \\\n",
       "2435    Syracuse University       Syracuse    NY  https://www.syracuse.edu   \n",
       "1526         Boston College  Chestnut Hill    MA                www.bc.edu   \n",
       "697   University of Florida    Gainesville    FL              www.ufl.edu/   \n",
       "423   Pepperdine University         Malibu    CA       www.pepperdine.edu/   \n",
       "826        Emory University        Atlanta    GA             www.emory.edu   \n",
       "\n",
       "      Admission_Rate  Average_SAT  Total_Undergraduate  In_State_Tuition  \\\n",
       "2435          0.4688       1277.0              14788.0           46755.0   \n",
       "1526          0.3241       1434.0               9636.0           53346.0   \n",
       "697           0.4201       1356.0              33655.0            6381.0   \n",
       "423           0.3985       1319.0               3594.0           51992.0   \n",
       "826           0.2204       1443.0               6776.0           49392.0   \n",
       "\n",
       "      Out_State_tuition First_Generation_Rate   Latitude   Longitude  \n",
       "2435            46755.0           0.188679245  43.040176  -76.136975  \n",
       "1526            53346.0           0.131895687  42.336213  -71.169242  \n",
       "697             28659.0           0.307665825  29.646290  -82.347911  \n",
       "423             51992.0           0.176165803  34.037786 -118.707077  \n",
       "826             49392.0           0.163870246  33.790183  -84.325512  "
      ]
     },
     "metadata": {},
     "output_type": "display_data"
    },
    {
     "name": "stdout",
     "output_type": "stream",
     "text": [
      "Type the name of the college you are interested in:quit\n"
     ]
    },
    {
     "data": {
      "text/html": [
       "<H1>Here is the average SAT score comparison for the schools</H1>"
      ],
      "text/plain": [
       "<IPython.core.display.HTML object>"
      ]
     },
     "metadata": {},
     "output_type": "display_data"
    },
    {
     "data": {
      "text/html": [
       "<H1>Your file is saved and is waiting for you in the directory named as'CollegeInfo,csv'.</H1>"
      ],
      "text/plain": [
       "<IPython.core.display.HTML object>"
      ]
     },
     "metadata": {},
     "output_type": "display_data"
    },
    {
     "data": {
      "text/html": [
       "<div style=\"width:100%;\"><div style=\"position:relative;width:100%;height:0;padding-bottom:60%;\"><iframe src=\"data:text/html;charset=utf-8;base64,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\" style=\"position:absolute;width:100%;height:100%;left:0;top:0;border:none !important;\" allowfullscreen webkitallowfullscreen mozallowfullscreen></iframe></div></div>"
      ],
      "text/plain": [
       "<folium.folium.Map at 0x7f442a0d46d8>"
      ]
     },
     "execution_count": 4,
     "metadata": {},
     "output_type": "execute_result"
    },
    {
     "data": {
      "image/png": "[encoded data removed]",
      "text/plain": [
       "<Figure size 432x288 with 1 Axes>"
      ]
     },
     "metadata": {
      "needs_background": "light"
     },
     "output_type": "display_data"
    }
   ],
   "source": [
    "#import modules and database\n",
    "import pandas as pd\n",
    "import numpy as np\n",
    "import warnings\n",
    "from ast import literal_eval\n",
    "import matplotlib\n",
    "import matplotlib.pyplot as plt\n",
    "import chart_studio as plotly\n",
    "import chart_studio.plotly as py     \n",
    "import plotly.graph_objs as go  \n",
    "from IPython.display import display,HTML\n",
    "import folium\n",
    "import colorama\n",
    "from colorama import Fore, Back, Style\n",
    "warnings.filterwarnings('ignore')\n",
    "charts=pd.read_csv('Most-Recent-Cohorts-All-Data-Elements.csv')\n",
    "\n",
    "#define function\n",
    "def print_title(text):\n",
    "    return display(HTML(\"<H1>\" + text + \"</H1>\"))\n",
    "\n",
    "#create attributes\n",
    "institutionname = charts['INSTNM']\n",
    "city= charts['CITY']\n",
    "state = charts['STABBR']\n",
    "website= charts['INSTURL']\n",
    "lat = charts['LATITUDE']\n",
    "long = charts['LONGITUDE']\n",
    "adrate = charts['ADM_RATE']\n",
    "sat = charts['SAT_AVG']\n",
    "undergrad = charts['UGDS']\n",
    "tuitionin = charts['TUITIONFEE_IN']\n",
    "tuitionout= charts['TUITIONFEE_OUT']\n",
    "firstg = charts['FIRST_GEN']\n",
    "\n",
    "#Create new dataFrame\n",
    "collegeinfo = pd.DataFrame({'College_Name':institutionname, 'City':city, 'State' : state, \n",
    "                           'Website':website, 'Admission_Rate':adrate, 'Average_SAT':sat, 'Total_Undergraduate':undergrad,\n",
    "                          'In_State_Tuition':tuitionin,'Out_State_tuition':tuitionout,'First_Generation_Rate':firstg,\n",
    "                          'Latitude':lat,'Longitude':long})\n",
    "#Prompt the user to use the program\n",
    "\n",
    "collegelist=pd.DataFrame(columns = ['College_Name', 'City','State','Website', 'Admission_Rate', 'Average_SAT', 'Total_Undergraduate',\n",
    "                         'In_State_Tuition','Out_State_tuition','First_Generation_Rate','Latitude','Longitude'])\n",
    "name = (input(\"Hello,What's your name?\"))\n",
    "print_title(f'Hello there ,{name}!Welecome to the Ultimate College Search Service!')\n",
    "sat=int(input(\"First of all, what is your SAT score? Don't worry, we will protect your data!\"))\n",
    "print_title('Wow, you did really well on that!')\n",
    "while True:\n",
    "    try :\n",
    "        \n",
    "        search = input('Type the name of the college you are interested in:')\n",
    "        if search == 'quit':\n",
    "            break\n",
    "        else:\n",
    "            info = collegeinfo[collegeinfo['College_Name']==search]\n",
    "            avgsat= int(info['Average_SAT'])\n",
    "            print_title(f'{search} has an average SAT score of {avgsat}. Your SAT score is {sat}.')\n",
    "            if sat>=avgsat:\n",
    "                print( Fore.GREEN+f'Your SAT score is higher than the average score at {search}!Good job! ')\n",
    "            else:\n",
    "                print(Fore.RED+f'Your SAT score is a little bit lower than the average score at {search}, but you can give it a try! ')\n",
    "            collegelist=collegelist.append(info)\n",
    "            display(collegelist)\n",
    "    except TypeError:\n",
    "        print('Try again!Your school is not on the list. Work on the capital letter!')\n",
    "collegelist.to_csv('CollegeInfo.csv')\n",
    "\n",
    "#pin the locations on the map\n",
    "CENTER_US = (39.8333333,-98.585522)\n",
    "m=folium.Map(\n",
    "    location=CENTER_US,\n",
    "    zoom_start=4,\n",
    "   tiles='Stamen Toner'\n",
    "    )\n",
    "import geocoder\n",
    "g = geocoder.ip('me')\n",
    "geo=g.latlng\n",
    "for row in collegelist.to_records():\n",
    "            folium.Marker(\n",
    "            location= [row['Latitude'],row['Longitude']],\n",
    "            popup = \"%s in %s , %s\" % (row['College_Name'],row['City'], row['State'])\n",
    "    ).add_to(m)\n",
    "folium.Marker(\n",
    "    location=geo,\n",
    "    popup='Your current location',    \n",
    "    icon=folium.Icon(color='red',icon='home')\n",
    ").add_to(m)\n",
    "\n",
    "#plot the bar chart\n",
    "print_title('Here is the average SAT score comparison for the schools')\n",
    "College=collegelist['College_Name']\n",
    "Average_SAT=collegelist['Average_SAT']\n",
    "collegelist_df=pd.DataFrame( { 'College_Name' : College,  'Scores' : Average_SAT })\n",
    "collegelist_df=collegelist_df.append({'College_Name':name,'Scores':sat},ignore_index=True)\n",
    "collegelist_df.plot.bar(x='College_Name',y='Scores',rot=0)\n",
    "print_title(\"Your file is saved and is waiting for you in the directory named as'CollegeInfo,csv'.\")\n",
    "m"
   ]
  },
  {
   "cell_type": "code",
   "execution_count": null,
   "metadata": {},
   "outputs": [],
   "source": []
  }
 ],
 "metadata": {
  "kernelspec": {
   "display_name": "Python 3",
   "language": "python",
   "name": "python3"
  },
  "language_info": {
   "codemirror_mode": {
    "name": "ipython",
    "version": 3
   },
   "file_extension": ".py",
   "mimetype": "text/x-python",
   "name": "python",
   "nbconvert_exporter": "python",
   "pygments_lexer": "ipython3",
   "version": "3.7.3"
  }
 },
 "nbformat": 4,
 "nbformat_minor": 2
}
